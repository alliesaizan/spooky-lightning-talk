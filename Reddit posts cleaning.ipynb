{
 "cells": [
  {
   "cell_type": "code",
   "execution_count": 1,
   "metadata": {},
   "outputs": [],
   "source": [
    "import pandas as pd\n",
    "import praw\n",
    "import numpy as np\n",
    "from nltk import word_tokenize\n",
    "import matplotlib\n",
    "import matplotlib.pyplot as plt\n",
    "import pickle\n",
    "%matplotlib inline"
   ]
  },
  {
   "cell_type": "code",
   "execution_count": 2,
   "metadata": {},
   "outputs": [
    {
     "data": {
      "text/plain": [
       "(114899, 6)"
      ]
     },
     "execution_count": 2,
     "metadata": {},
     "output_type": "execute_result"
    }
   ],
   "source": [
    "posts = pd.read_csv(\"/Users/alliesaizan/Downloads/data.csv\")\n",
    "posts.shape"
   ]
  },
  {
   "cell_type": "code",
   "execution_count": null,
   "metadata": {},
   "outputs": [],
   "source": [
    "# Drop rows with NA text\n",
    "posts = posts.loc[(posts[\"selftext\"].isna() == False)]\n",
    "\n",
    "posts.shape"
   ]
  },
  {
   "cell_type": "code",
   "execution_count": null,
   "metadata": {},
   "outputs": [],
   "source": [
    "# Creating some features to help with data cleaning\n",
    "posts[\"tokenized\"] = posts[\"selftext\"].apply(word_tokenize)\n",
    "posts[\"text_len\"] = posts[\"tokenized\"].apply(len)"
   ]
  },
  {
   "cell_type": "markdown",
   "metadata": {},
   "source": [
    "## The bulk of the posts are less than 2000 words long."
   ]
  },
  {
   "cell_type": "code",
   "execution_count": null,
   "metadata": {},
   "outputs": [],
   "source": [
    "num_bins = 50\n",
    "\n",
    "fig, ax = plt.subplots()\n",
    "\n",
    "n, bins, patches = ax.hist(posts[\"text_len\"].tolist(), num_bins, density=1)\n",
    "\n",
    "plt.show()"
   ]
  },
  {
   "cell_type": "markdown",
   "metadata": {},
   "source": [
    "What does the histogram look like at a more granular level (with # words less than 2,000)?"
   ]
  },
  {
   "cell_type": "code",
   "execution_count": null,
   "metadata": {},
   "outputs": [],
   "source": [
    "fig, ax = plt.subplots()\n",
    "n, bins, patches = ax.hist(posts.loc[posts.text_len < 2000, \"text_len\"].tolist(), num_bins, density=1)\n",
    "\n",
    "plt.show() # lotsa zeroes"
   ]
  },
  {
   "cell_type": "markdown",
   "metadata": {},
   "source": [
    "What is the exact highest point of the histogram?"
   ]
  },
  {
   "cell_type": "code",
   "execution_count": null,
   "metadata": {},
   "outputs": [],
   "source": [
    "bin_max = np.where(n == n.max())\n",
    "bins[bin_max][0]"
   ]
  },
  {
   "cell_type": "markdown",
   "metadata": {},
   "source": [
    "At the 600 word mark, the text appears to be legitimate stories and not callouts or questions. But looking at posts greater than 600 words only leaves us with 67% of the data. At the 250 word mark, it was looking like mosts of the posts were creative works. One option is to hand-classify posts with lengths between 250 and 600 and train a classifier on the tagged data."
   ]
  },
  {
   "cell_type": "code",
   "execution_count": null,
   "metadata": {},
   "outputs": [],
   "source": [
    "posts.loc[posts.text_len == 600]\n",
    "posts.loc[posts.text_len > 600].shape"
   ]
  },
  {
   "cell_type": "code",
   "execution_count": null,
   "metadata": {},
   "outputs": [],
   "source": [
    "# Arbitrary 250-word cutoff, because hand classification sounds like too much damn work\n",
    "posts_subset = posts.loc[posts.text_len >= 250]\n",
    "posts_subset.shape"
   ]
  },
  {
   "cell_type": "code",
   "execution_count": null,
   "metadata": {},
   "outputs": [],
   "source": [
    "# Export a sample of the data that is less than 10mb. \n",
    "posts_subset = posts_subset.sample(n=8000)"
   ]
  },
  {
   "cell_type": "code",
   "execution_count": null,
   "metadata": {},
   "outputs": [],
   "source": [
    "posts_txt = \"\".join([\"|startoftext|\" + i + \"|endoftext|\" for i in posts_subset.selftext.to_list()])\n",
    "\n",
    "with open(\"posts.txt\", \"a\") as f:\n",
    "    f.writelines(posts_txt)\n",
    "f.close()"
   ]
  },
  {
   "cell_type": "code",
   "execution_count": null,
   "metadata": {},
   "outputs": [],
   "source": [
    "pickle.dump(posts_txt, open(\"posts.pkl\", \"wb\"))"
   ]
  }
 ],
 "metadata": {
  "kernelspec": {
   "display_name": "Python 3",
   "language": "python",
   "name": "python3"
  },
  "language_info": {
   "codemirror_mode": {
    "name": "ipython",
    "version": 3
   },
   "file_extension": ".py",
   "mimetype": "text/x-python",
   "name": "python",
   "nbconvert_exporter": "python",
   "pygments_lexer": "ipython3",
   "version": "3.7.3"
  }
 },
 "nbformat": 4,
 "nbformat_minor": 2
}
